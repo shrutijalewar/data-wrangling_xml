{
 "cells": [
  {
   "cell_type": "markdown",
   "metadata": {},
   "source": [
    "# XML example and exercise\n",
    "****\n",
    "+ study examples of accessing nodes in XML tree structure  \n",
    "+ work on exercise to be completed and submitted\n",
    "****\n",
    "+ reference: https://docs.python.org/2.7/library/xml.etree.elementtree.html\n",
    "+ data source: http://www.dbis.informatik.uni-goettingen.de/Mondial\n",
    "****"
   ]
  },
  {
   "cell_type": "code",
   "execution_count": 1,
   "metadata": {
    "collapsed": true
   },
   "outputs": [],
   "source": [
    "from xml.etree import ElementTree as ET"
   ]
  },
  {
   "cell_type": "markdown",
   "metadata": {},
   "source": [
    "## XML example\n",
    "\n",
    "+ for details about tree traversal and iterators, see https://docs.python.org/2.7/library/xml.etree.elementtree.html"
   ]
  },
  {
   "cell_type": "code",
   "execution_count": 2,
   "metadata": {
    "collapsed": true
   },
   "outputs": [],
   "source": [
    "document_tree = ET.parse( './data/mondial_database_less.xml' )"
   ]
  },
  {
   "cell_type": "code",
   "execution_count": 3,
   "metadata": {
    "collapsed": false
   },
   "outputs": [
    {
     "name": "stdout",
     "output_type": "stream",
     "text": [
      "Albania\n",
      "Greece\n",
      "Macedonia\n",
      "Serbia\n",
      "Montenegro\n",
      "Kosovo\n",
      "Andorra\n"
     ]
    }
   ],
   "source": [
    "# print names of all countries\n",
    "for child in document_tree.getroot():\n",
    "    print (child.find('name').text)"
   ]
  },
  {
   "cell_type": "code",
   "execution_count": 4,
   "metadata": {
    "collapsed": false
   },
   "outputs": [
    {
     "name": "stdout",
     "output_type": "stream",
     "text": [
      "* Albania:\n",
      "Tirana, Shkodër, Durrës, Vlorë, Elbasan, Korçë\n",
      "* Greece:\n",
      "Komotini, Kavala, Athina, Peiraias, Peristeri, Acharnes, Patra, Kozani, Kerkyra, Ioannina, Thessaloniki, Iraklio, Chania, Ermoupoli, Rhodes, Tripoli, Lamia, Chalkida, Larissa, Volos, Mytilini, Karyes\n",
      "* Macedonia:\n",
      "Skopje, Kumanovo\n",
      "* Serbia:\n",
      "Beograd, Novi Sad, Niš\n",
      "* Montenegro:\n",
      "Podgorica\n",
      "* Kosovo:\n",
      "Prishtine\n",
      "* Andorra:\n",
      "Andorra la Vella\n"
     ]
    }
   ],
   "source": [
    "# print names of all countries and their cities\n",
    "for element in document_tree.iterfind('country'):\n",
    "    print ('* ' + element.find('name').text + ':'),\n",
    "    capitals_string = ''\n",
    "    for subelement in element.getiterator('city'):\n",
    "        capitals_string += subelement.find('name').text + ', '\n",
    "    print (capitals_string[:-2])"
   ]
  },
  {
   "cell_type": "markdown",
   "metadata": {},
   "source": [
    "****\n",
    "## XML exercise\n",
    "\n",
    "Using data in 'data/mondial_database.xml', the examples above, and refering to https://docs.python.org/2.7/library/xml.etree.elementtree.html, find\n",
    "\n",
    "1. 10 countries with the lowest infant mortality rates\n",
    "2. 10 cities with the largest population\n",
    "3. 10 ethnic groups with the largest overall populations (sum of best/latest estimates over all countries)\n",
    "4. name and country of a) longest river, b) largest lake and c) airport at highest elevation"
   ]
  },
  {
   "cell_type": "code",
   "execution_count": 10,
   "metadata": {
    "collapsed": false
   },
   "outputs": [],
   "source": [
    "# 10 countries with the lowest infant mortality rates\n",
    "document = ET.parse( './data/mondial_database.xml' )\n",
    "import numpy as np\n",
    "\n",
    "data = document.getroot()\n",
    "# print (data)\n",
    "# for country in data.iter('country'):\n",
    "#     print (country.attrib)\n",
    "\n",
    "   \n"
   ]
  },
  {
   "cell_type": "code",
   "execution_count": 11,
   "metadata": {
    "collapsed": false
   },
   "outputs": [
    {
     "data": {
      "text/html": [
       "<div>\n",
       "<table border=\"1\" class=\"dataframe\">\n",
       "  <thead>\n",
       "    <tr style=\"text-align: right;\">\n",
       "      <th></th>\n",
       "      <th>country</th>\n",
       "      <th>infant mortality</th>\n",
       "    </tr>\n",
       "  </thead>\n",
       "  <tbody>\n",
       "    <tr>\n",
       "      <th>264</th>\n",
       "      <td>Monaco</td>\n",
       "      <td>1.81</td>\n",
       "    </tr>\n",
       "    <tr>\n",
       "      <th>36</th>\n",
       "      <td>Monaco</td>\n",
       "      <td>1.81</td>\n",
       "    </tr>\n",
       "    <tr>\n",
       "      <th>90</th>\n",
       "      <td>Japan</td>\n",
       "      <td>2.13</td>\n",
       "    </tr>\n",
       "    <tr>\n",
       "      <th>318</th>\n",
       "      <td>Japan</td>\n",
       "      <td>2.13</td>\n",
       "    </tr>\n",
       "    <tr>\n",
       "      <th>262</th>\n",
       "      <td>Norway</td>\n",
       "      <td>2.48</td>\n",
       "    </tr>\n",
       "    <tr>\n",
       "      <th>34</th>\n",
       "      <td>Norway</td>\n",
       "      <td>2.48</td>\n",
       "    </tr>\n",
       "    <tr>\n",
       "      <th>337</th>\n",
       "      <td>Bermuda</td>\n",
       "      <td>2.48</td>\n",
       "    </tr>\n",
       "    <tr>\n",
       "      <th>109</th>\n",
       "      <td>Bermuda</td>\n",
       "      <td>2.48</td>\n",
       "    </tr>\n",
       "    <tr>\n",
       "      <th>326</th>\n",
       "      <td>Singapore</td>\n",
       "      <td>2.53</td>\n",
       "    </tr>\n",
       "    <tr>\n",
       "      <th>98</th>\n",
       "      <td>Singapore</td>\n",
       "      <td>2.53</td>\n",
       "    </tr>\n",
       "  </tbody>\n",
       "</table>\n",
       "</div>"
      ],
      "text/plain": [
       "       country  infant mortality\n",
       "264     Monaco              1.81\n",
       "36      Monaco              1.81\n",
       "90       Japan              2.13\n",
       "318      Japan              2.13\n",
       "262     Norway              2.48\n",
       "34      Norway              2.48\n",
       "337    Bermuda              2.48\n",
       "109    Bermuda              2.48\n",
       "326  Singapore              2.53\n",
       "98   Singapore              2.53"
      ]
     },
     "execution_count": 11,
     "metadata": {},
     "output_type": "execute_result"
    }
   ],
   "source": [
    "import pandas as pd\n",
    "for country in data.iter('country'):\n",
    "    if country.find('name') != None:\n",
    "        if country.find('infant_mortality') != None:\n",
    "            c.append(country.find('name').text)\n",
    "            imr.append(float(country.find('infant_mortality').text))\n",
    "        else:\n",
    "            continue\n",
    "    else:\n",
    "        continue\n",
    "table = {'country':c, 'infant mortality': imr}\n",
    "top10 = pd.DataFrame(table).sort_values(by='infant mortality').head(10)\n",
    "top10"
   ]
  },
  {
   "cell_type": "code",
   "execution_count": 12,
   "metadata": {
    "collapsed": false
   },
   "outputs": [
    {
     "data": {
      "text/plain": [
       "430              Seoul\n",
       "412         Al Qahirah\n",
       "204            Bangkok\n",
       "322          Hong Kong\n",
       "229        Ho Chi Minh\n",
       "554          Singapore\n",
       "409    Al Iskandariyah\n",
       "566         New Taipei\n",
       "434              Busan\n",
       "270          Pyongyang\n",
       "Name: city, dtype: object"
      ]
     },
     "execution_count": 12,
     "metadata": {},
     "output_type": "execute_result"
    }
   ],
   "source": [
    "# 10 cities with the largest population\n",
    "popArray=[]\n",
    "\n",
    "for city in data.findall('country/city'):\n",
    "\n",
    "    for population in city.findall('population'):\n",
    "        popArray.append((int(population.text),city.find('name').text))\n",
    "\n",
    "largest_population = pd.DataFrame(popArray,columns = ['population','city'] ).sort_values('population', ascending=False).head(25)    \n",
    "\n",
    "top10 = largest_population['city'].drop_duplicates()\n",
    "top10\n",
    "# print(largest_population)\n",
    "# print(top10)\n",
    "\n"
   ]
  },
  {
   "cell_type": "code",
   "execution_count": 13,
   "metadata": {
    "collapsed": false,
    "scrolled": true
   },
   "outputs": [
    {
     "data": {
      "text/html": [
       "<div>\n",
       "<table border=\"1\" class=\"dataframe\">\n",
       "  <thead>\n",
       "    <tr style=\"text-align: right;\">\n",
       "      <th></th>\n",
       "      <th>population</th>\n",
       "      <th>percentage</th>\n",
       "      <th>Ethnic Population</th>\n",
       "    </tr>\n",
       "    <tr>\n",
       "      <th>ethnicity</th>\n",
       "      <th></th>\n",
       "      <th></th>\n",
       "      <th></th>\n",
       "    </tr>\n",
       "  </thead>\n",
       "  <tbody>\n",
       "    <tr>\n",
       "      <th>Han Chinese</th>\n",
       "      <td>1360720000</td>\n",
       "      <td>91.50</td>\n",
       "      <td>1.245059e+09</td>\n",
       "    </tr>\n",
       "    <tr>\n",
       "      <th>Indo-Aryan</th>\n",
       "      <td>1210854977</td>\n",
       "      <td>72.00</td>\n",
       "      <td>8.718156e+08</td>\n",
       "    </tr>\n",
       "    <tr>\n",
       "      <th>European</th>\n",
       "      <td>1157295639</td>\n",
       "      <td>970.82</td>\n",
       "      <td>4.948722e+08</td>\n",
       "    </tr>\n",
       "    <tr>\n",
       "      <th>African</th>\n",
       "      <td>975352746</td>\n",
       "      <td>1868.55</td>\n",
       "      <td>3.183251e+08</td>\n",
       "    </tr>\n",
       "    <tr>\n",
       "      <th>Dravidian</th>\n",
       "      <td>1210854977</td>\n",
       "      <td>25.00</td>\n",
       "      <td>3.027137e+08</td>\n",
       "    </tr>\n",
       "    <tr>\n",
       "      <th>Mestizo</th>\n",
       "      <td>279743964</td>\n",
       "      <td>870.70</td>\n",
       "      <td>1.577344e+08</td>\n",
       "    </tr>\n",
       "    <tr>\n",
       "      <th>Bengali</th>\n",
       "      <td>149772364</td>\n",
       "      <td>98.00</td>\n",
       "      <td>1.467769e+08</td>\n",
       "    </tr>\n",
       "    <tr>\n",
       "      <th>Russian</th>\n",
       "      <td>322438406</td>\n",
       "      <td>224.10</td>\n",
       "      <td>1.318570e+08</td>\n",
       "    </tr>\n",
       "    <tr>\n",
       "      <th>Japanese</th>\n",
       "      <td>127298000</td>\n",
       "      <td>99.40</td>\n",
       "      <td>1.265342e+08</td>\n",
       "    </tr>\n",
       "    <tr>\n",
       "      <th>Malay</th>\n",
       "      <td>377500275</td>\n",
       "      <td>242.30</td>\n",
       "      <td>1.219936e+08</td>\n",
       "    </tr>\n",
       "  </tbody>\n",
       "</table>\n",
       "</div>"
      ],
      "text/plain": [
       "             population  percentage  Ethnic Population\n",
       "ethnicity                                             \n",
       "Han Chinese  1360720000       91.50       1.245059e+09\n",
       "Indo-Aryan   1210854977       72.00       8.718156e+08\n",
       "European     1157295639      970.82       4.948722e+08\n",
       "African       975352746     1868.55       3.183251e+08\n",
       "Dravidian    1210854977       25.00       3.027137e+08\n",
       "Mestizo       279743964      870.70       1.577344e+08\n",
       "Bengali       149772364       98.00       1.467769e+08\n",
       "Russian       322438406      224.10       1.318570e+08\n",
       "Japanese      127298000       99.40       1.265342e+08\n",
       "Malay         377500275      242.30       1.219936e+08"
      ]
     },
     "execution_count": 13,
     "metadata": {},
     "output_type": "execute_result"
    }
   ],
   "source": [
    "# 10 ethnic groups with the largest overall populations (sum of best/latest estimates over all countries)\n",
    "\n",
    "ethnic_group = []\n",
    "total_population = []\n",
    "ethnic_numbers = []\n",
    "\n",
    "\n",
    "for country in data.findall('country'):\n",
    "    for population in reversed(country.findall('population')):\n",
    "        total_population.append(int(population.text))\n",
    "        for ethnicity in country.findall('ethnicgroup'):\n",
    "            ethnic_numbers.append((int(population.text), float(ethnicity.attrib['percentage']), ethnicity.text))\n",
    "        break\n",
    "\n",
    "d= pd.DataFrame(ethnic_numbers, columns=['population', 'percentage', 'ethnicity'])\n",
    "d['Ethnic Population'] = (d.population * d.percentage)/100\n",
    "\n",
    "d.groupby('ethnicity').sum().sort_values(by='Ethnic Population', ascending=False).head(10)"
   ]
  },
  {
   "cell_type": "code",
   "execution_count": 21,
   "metadata": {
    "collapsed": false
   },
   "outputs": [
    {
     "data": {
      "text/html": [
       "<div>\n",
       "<table border=\"1\" class=\"dataframe\">\n",
       "  <thead>\n",
       "    <tr style=\"text-align: right;\">\n",
       "      <th></th>\n",
       "      <th>name</th>\n",
       "      <th>length</th>\n",
       "    </tr>\n",
       "  </thead>\n",
       "  <tbody>\n",
       "    <tr>\n",
       "      <th>174</th>\n",
       "      <td>Amazonas</td>\n",
       "      <td>6448.0</td>\n",
       "    </tr>\n",
       "  </tbody>\n",
       "</table>\n",
       "</div>"
      ],
      "text/plain": [
       "         name  length\n",
       "174  Amazonas  6448.0"
      ]
     },
     "execution_count": 21,
     "metadata": {},
     "output_type": "execute_result"
    }
   ],
   "source": [
    "# name and country of \n",
    "#a) longest river\n",
    "name = []\n",
    "length = []\n",
    "source = []\n",
    "\n",
    "document = ET.parse( './data/mondial_database.xml' )\n",
    "\n",
    "\n",
    "for element in document.getiterator('river'):\n",
    "    if element.find('length') !=None:\n",
    "        name.append(element.find('name').text)\n",
    "        length.append(np.float(element.find('length').text))\n",
    "        \n",
    "riverList ={'name':name,\n",
    "        'length':length} \n",
    "river=pd.DataFrame(riverList,columns=['name','length']).sort_values(by='length',ascending=False).head(1)\n",
    "river\n",
    "    \n",
    "\n"
   ]
  },
  {
   "cell_type": "code",
   "execution_count": 15,
   "metadata": {
    "collapsed": false
   },
   "outputs": [
    {
     "data": {
      "text/html": [
       "<div>\n",
       "<table border=\"1\" class=\"dataframe\">\n",
       "  <thead>\n",
       "    <tr style=\"text-align: right;\">\n",
       "      <th></th>\n",
       "      <th>Name</th>\n",
       "      <th>Area</th>\n",
       "      <th>C_Code</th>\n",
       "    </tr>\n",
       "  </thead>\n",
       "  <tbody>\n",
       "    <tr>\n",
       "      <th>54</th>\n",
       "      <td>Caspian Sea</td>\n",
       "      <td>386400.0</td>\n",
       "      <td>TM</td>\n",
       "    </tr>\n",
       "    <tr>\n",
       "      <th>109</th>\n",
       "      <td>Lake Superior</td>\n",
       "      <td>82103.0</td>\n",
       "      <td>USA</td>\n",
       "    </tr>\n",
       "    <tr>\n",
       "      <th>81</th>\n",
       "      <td>Lake Victoria</td>\n",
       "      <td>68870.0</td>\n",
       "      <td>EAT</td>\n",
       "    </tr>\n",
       "    <tr>\n",
       "      <th>106</th>\n",
       "      <td>Lake Huron</td>\n",
       "      <td>59600.0</td>\n",
       "      <td>USA</td>\n",
       "    </tr>\n",
       "    <tr>\n",
       "      <th>108</th>\n",
       "      <td>Lake Michigan</td>\n",
       "      <td>57800.0</td>\n",
       "      <td>USA</td>\n",
       "    </tr>\n",
       "  </tbody>\n",
       "</table>\n",
       "</div>"
      ],
      "text/plain": [
       "              Name      Area C_Code\n",
       "54     Caspian Sea  386400.0     TM\n",
       "109  Lake Superior   82103.0    USA\n",
       "81   Lake Victoria   68870.0    EAT\n",
       "106     Lake Huron   59600.0    USA\n",
       "108  Lake Michigan   57800.0    USA"
      ]
     },
     "execution_count": 15,
     "metadata": {},
     "output_type": "execute_result"
    }
   ],
   "source": [
    "# b) largest lake and \n",
    "lakeList=[]\n",
    "for element in document.getiterator('lake'):\n",
    "    for subelement in list(element):\n",
    "        if subelement.tag == 'name':\n",
    "            Lname = subelement.text\n",
    "        if subelement.tag == 'area':\n",
    "            Larea = float(subelement.text)\n",
    "        if subelement.tag == 'located':\n",
    "            Llocation = subelement.attrib['country']\n",
    "    lakeList.append((Lname, Larea, Llocation))\n",
    "lake = pd.DataFrame(lakeList, columns=['Name', 'Area', 'C_Code']).sort_values(by='Area', ascending=False).head(1)\n",
    "lake"
   ]
  },
  {
   "cell_type": "code",
   "execution_count": 23,
   "metadata": {
    "collapsed": false
   },
   "outputs": [
    {
     "data": {
      "text/html": [
       "<div>\n",
       "<table border=\"1\" class=\"dataframe\">\n",
       "  <thead>\n",
       "    <tr style=\"text-align: right;\">\n",
       "      <th></th>\n",
       "      <th>Elevation</th>\n",
       "      <th>Name</th>\n",
       "      <th>Code</th>\n",
       "    </tr>\n",
       "  </thead>\n",
       "  <tbody>\n",
       "    <tr>\n",
       "      <th>80</th>\n",
       "      <td>4063.0</td>\n",
       "      <td>El Alto Intl</td>\n",
       "      <td>BOL</td>\n",
       "    </tr>\n",
       "  </tbody>\n",
       "</table>\n",
       "</div>"
      ],
      "text/plain": [
       "    Elevation          Name Code\n",
       "80     4063.0  El Alto Intl  BOL"
      ]
     },
     "execution_count": 23,
     "metadata": {},
     "output_type": "execute_result"
    }
   ],
   "source": [
    "document = ET.parse( './data/mondial_database.xml' )\n",
    "doc = document.getroot()\n",
    "airportList = []\n",
    "for element in doc.findall('airport'):\n",
    "    if (element.find('elevation').text != None and element.find('name') != None):\n",
    "        airportList.append((float(element.find('elevation').text), element.find('name').text, element.get('country')))\n",
    "aList = pd.DataFrame(airportList, columns=['Elevation', 'Name', 'Code']).sort_values(by='Elevation', ascending=False)\n",
    "aList.head(1)"
   ]
  },
  {
   "cell_type": "code",
   "execution_count": null,
   "metadata": {
    "collapsed": true
   },
   "outputs": [],
   "source": []
  }
 ],
 "metadata": {
  "kernelspec": {
   "display_name": "Python 3",
   "language": "python",
   "name": "python3"
  },
  "language_info": {
   "codemirror_mode": {
    "name": "ipython",
    "version": 3
   },
   "file_extension": ".py",
   "mimetype": "text/x-python",
   "name": "python",
   "nbconvert_exporter": "python",
   "pygments_lexer": "ipython3",
   "version": "3.5.1"
  }
 },
 "nbformat": 4,
 "nbformat_minor": 0
}
